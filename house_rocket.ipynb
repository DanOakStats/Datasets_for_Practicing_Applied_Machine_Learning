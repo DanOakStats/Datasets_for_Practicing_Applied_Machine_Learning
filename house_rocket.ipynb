{
 "cells": [
  {
   "cell_type": "markdown",
   "metadata": {},
   "source": [
    "# Usando *Machine Learning* para prever valores de casas em *King County, WA*\n",
    "\n",
    "<p align=\"center\">\n",
    "    <img width=750, src=\"https://github.com/DanOliveira-DS/Datasets_for_Practicing_Applied_Machine_Learning/blob/master/imgs/king_county.jpg?raw=true\">\n",
    "</p>\n",
    "\n",
    "\n"
   ]
  },
  {
   "cell_type": "markdown",
   "metadata": {},
   "source": [
    "# Contexto do Desafio\n",
    "A House Rocket é uma plataforma digital que tem como modelo de negócio, a compra e a venda de imóveis usando tecnologia.\n",
    "\n",
    "Você é um Data Scientist contrato pela empresa para ajudar a encontrar as melhores oportunidades de negócio no mercado de imóveis. O CEO da House Rocket gostaria de maximizar a receita da empresa encontrando boas oportunidades de negócio.\n",
    "\n",
    "Sua principal estratégia é comprar boas casas em ótimas localizações com preços baixos e depois revendê-las posteriormente à preços mais altos. Quanto maior a diferença entre a compra e a venda, maior o lucro da empresa e portanto maior sua receita.\n",
    "\n",
    "Entretanto, as casas possuem muitos atributos que as tornam mais ou menos atrativas aos compradores e vendedores e a localização e o período do ano também podem influenciar os preços.\n",
    "\n",
    "Portanto, seu trabalho como Data Scientist é responder as seguinte perguntas:\n",
    "\n",
    "* Quais casas o CEO da House Rocket deveria comprar e por qual preço de compra?\n",
    "* Uma vez a casa em posse da empresa, qual o melhor momento para vendê-las e qual seria o preço da venda?\n",
    "* A House Rocket deveria fazer uma reforma para aumentar o preço da venda? Quais seriam as sugestões de mudanças? \n",
    "* Qual o incremento no preço dado por cada opção de reforma?\n",
    "\n",
    "Para avaliar a performance do nosso modelo vamos utilizar:\n",
    "\n",
    "* Raiz quadrada do erro-médio - \n",
    "$RMSE = \\sqrt{\\frac{1}{n}\\Sigma_{i=1}^{n}{\\Big(\\frac{d_i -f_i}{\\sigma_i}\\Big)^2}}$"
   ]
  },
  {
   "cell_type": "markdown",
   "metadata": {},
   "source": [
    "# Descrição das variáveis\n",
    "\n"
   ]
  },
  {
   "cell_type": "markdown",
   "metadata": {},
   "source": [
    "# Roteiro Sugerido para a Resolução.\n",
    "Esse é o roteiro de resolução:\n",
    "\n",
    "1. Identifique a causa raíz.\n",
    "    * Porque o CEO fez essas perguntas? Se você fosse ele, porque você perguntaria isso? Quer aumentar receita? A empresa está indo bem?\n",
    "    * Anote essas causas.\n",
    "2. Colete os dados ( Os dados estão no link acima )\n",
    "3. Aplique uma limpeza nos dados.\n",
    "    * Entenda as variáveis disponíveis, possíveis valores faltantes, faça uma estatística descritiva para entender as características dos dados.\n",
    "4. Levante Hipóteses sobre o Comportamento do Negócio.\n",
    "    * Casas com garagens são mais caras? Porque?\n",
    "    * Casas com muitos quartos são mais caras? Porque? A partir de quantos quartos o preço aumenta? Qual o incremento de preço por cada quarto adicionado?\n",
    "    * As casas mais caras estão no centro? Qual a região? Existe alguma coisa na região que tem correlação com valor de venda da casa? Shoppings? Montanhas? Pessoas Famosas?\n",
    "5. Faça uma ótima Análise Exploratória de Dados.\n",
    "    * Quais hipóteses são falsas e quais são verdadeiras?\n",
    "    * Quais as correlações entre as variáveis e a variável resposta?\n",
    "6. Escreve os Insights que você encontro.\n",
    "7. Escreve possíveis soluções para o problema do CEO."
   ]
  },
  {
   "cell_type": "code",
   "execution_count": null,
   "metadata": {},
   "outputs": [],
   "source": []
  }
 ],
 "metadata": {
  "kernelspec": {
   "display_name": "Python 3",
   "language": "python",
   "name": "python3"
  },
  "language_info": {
   "codemirror_mode": {
    "name": "ipython",
    "version": 3
   },
   "file_extension": ".py",
   "mimetype": "text/x-python",
   "name": "python",
   "nbconvert_exporter": "python",
   "pygments_lexer": "ipython3",
   "version": "3.7.7"
  }
 },
 "nbformat": 4,
 "nbformat_minor": 4
}
