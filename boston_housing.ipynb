{
 "cells": [
  {
   "cell_type": "markdown",
   "metadata": {},
   "source": [
    "# Usando *Machine Learning* para prever valores de casas em *Boston*\n",
    "\n",
    "<p align=\"center\">\n",
    "    <img width=850, src=\"https://github.com/DanOliveira-DS/Datasets_for_Practicing_Applied_Machine_Learning/blob/master/imgs/Boston_Back_Bay_RobbieShade_Flickr_sm.jpg?raw=true\">\n",
    "</p>\n",
    "\n",
    "Neste projeto, avaliaremos o desempenho e o poder preditivo de um modelo que foi treinado e testado em dados coletados em residências nos subúrbios de Boston, Massachusetts. \n",
    "\n",
    "O conjunto de dados para este projeto foi retirado da plataforma [*Kaggle*](https://www.kaggle.com/schirmerchad/bostonhoustingmlnd). O conjunto de dados para este projeto se origina do *UCI Machine Learning Repository*. Os dados habitacionais de Boston foram coletados em 1978 e cada uma das 506 entradas representam dados agregados sobre 14 características para residências de vários subúrbios em Boston, Massachusetts."
   ]
  },
  {
   "cell_type": "code",
   "execution_count": null,
   "metadata": {},
   "outputs": [],
   "source": []
  }
 ],
 "metadata": {
  "kernelspec": {
   "display_name": "Python 3",
   "language": "python",
   "name": "python3"
  },
  "language_info": {
   "codemirror_mode": {
    "name": "ipython",
    "version": 3
   },
   "file_extension": ".py",
   "mimetype": "text/x-python",
   "name": "python",
   "nbconvert_exporter": "python",
   "pygments_lexer": "ipython3",
   "version": "3.7.7"
  }
 },
 "nbformat": 4,
 "nbformat_minor": 4
}
