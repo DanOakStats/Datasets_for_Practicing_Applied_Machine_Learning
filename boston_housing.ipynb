{
 "cells": [
  {
   "cell_type": "markdown",
   "metadata": {},
   "source": [
    "# Usando *Machine Learning* para prever valores de casas em *King County, WA*\n",
    "\n",
    "<p align=\"center\">\n",
    "    <img width=850, src=\"https://github.com/DanOliveira-DS/Datasets_for_Practicing_Applied_Machine_Learning/blob/master/imgs/Boston_Back_Bay_RobbieShade_Flickr_sm.jpg?raw=true\">\n",
    "</p>\n",
    "\n",
    "Neste projeto, avaliaremos o desempenho e o poder preditivo de um modelo que foi treinado e testado em dados coletados entre maio de 2014 e maio de 2015.\n",
    "\n",
    "O conjunto de dados para este projeto foi retirado da plataforma [*Kaggle*](https://www.kaggle.com/schirmerchad/bostonhoustingmlnd).  Este conjunto de dados contém preços de venda de casas para King County, que inclui Seattle. Inclui casas vendidas entre maio de 2014 e maio de 2015.\n",
    "\n",
    "Para avaliar a performance do nosso modelo vamos utilizar Raiz quadrada do erro-médio:\n",
    "\n",
    "$RMSE = \\sqrt{\\frac{1}{n}\\Sigma_{i=1}^{n}{\\Big(\\frac{d_i -f_i}{\\sigma_i}\\Big)^2}}$"
   ]
  },
  {
   "cell_type": "markdown",
   "metadata": {},
   "source": [
    "# Contexto do Desafio\n",
    "A House Rocket é uma plataforma digital que tem como modelo de negócio, a compra e a venda de imóveis usando tecnologia.\n",
    "\n",
    "Você é um Data Scientist contrato pela empresa para ajudar a encontrar as melhores oportunidades de negócio no mercado de imóveis. O CEO da House Rocket gostaria de maximizar a receita da empresa encontrando boas oportunidades de negócio.\n",
    "\n",
    "Sua principal estratégia é comprar boas casas em ótimas localizações com preços baixos e depois revendê-las posteriormente à preços mais altos. Quanto maior a diferença entre a compra e a venda, maior o lucro da empresa e portanto maior sua receita.\n",
    "\n",
    "Entretanto, as casas possuem muitos atributos que as tornam mais ou menos atrativas aos compradores e vendedores e a localização e o período do ano também podem influenciar os preços.\n",
    "\n",
    "Portanto, seu trabalho como Data Scientist é responder as seguinte perguntas:\n",
    "\n",
    "* Quais casas o CEO da House Rocket deveria comprar e por qual preço de compra?\n",
    "* Uma vez a casa em posse da empresa, qual o melhor momento para vendê-las e qual seria o preço da venda?\n",
    "* A House Rocket deveria fazer uma reforma para aumentar o preço da venda? Quais seriam as sugestões de mudanças? \n",
    "* Qual o incremento no preço dado por cada opção de reforma?"
   ]
  },
  {
   "cell_type": "markdown",
   "metadata": {},
   "source": [
    "# Descrição das variáveis\n",
    "\n",
    "* CRIM: taxa de criminalidade per capita por cidade\n",
    "* ZN: proporção de terrenos residenciais zoneados para lotes com mais de 25.000 pés quadrados.\n",
    "* INDUS: proporção de acres de negócios não varejistas por cidade\n",
    "* CHAS: variável dummy de Charles River (= 1 se a área delimita o rio; 0 caso contrário)\n",
    "* NOX: concentração de óxidos nítricos (partes por 10 milhões)\n",
    "* RM: número médio de quartos por habitação\n",
    "* IDADE: proporção de unidades ocupadas pelo proprietário construídas antes de 1940\n",
    "* DIS: distâncias ponderadas para cinco centros de emprego de Boston\n",
    "* RAD: índice de acessibilidade às rodovias radiais\n",
    "* IMPOSTO: taxa de imposto de propriedade de valor total por `$10.000`.\n",
    "* PTRATIO: proporcaoo aluno-professor por cidade. \n",
    "* B: 1000 (Bk − 0,63) 2 onde Bk é a proporção de negros por cidade/\n",
    "* LSTAT: % status inferior da população\n",
    "* MEDV: valor médio das casas ocupadas pelo proprietário em US `$ 1.000`"
   ]
  },
  {
   "cell_type": "markdown",
   "metadata": {},
   "source": [
    "# Roteiro Sugerido para a Resolução.\n",
    "Esse é o roteiro de resolução:\n",
    "\n",
    "1. Identifique a causa raíz.\n",
    "    * Porque o CEO fez essas perguntas? Se você fosse ele, porque você perguntaria isso? Quer aumentar receita? A empresa está indo bem?\n",
    "    * Anote essas causas.\n",
    "2. Colete os dados ( Os dados estão no link acima )\n",
    "3. Aplique uma limpeza nos dados.\n",
    "    * Entenda as variáveis disponíveis, possíveis valores faltantes, faça uma estatística descritiva para entender as características dos dados.\n",
    "4. Levante Hipóteses sobre o Comportamento do Negócio.\n",
    "    * Casas com garagens são mais caras? Porque?\n",
    "    * Casas com muitos quartos são mais caras? Porque? A partir de quantos quartos o preço aumenta? Qual o incremento de preço por cada quarto adicionado?\n",
    "    * As casas mais caras estão no centro? Qual a região? Existe alguma coisa na região que tem correlação com valor de venda da casa? Shoppings? Montanhas? Pessoas Famosas?\n",
    "5. Faça uma ótima Análise Exploratória de Dados.\n",
    "    * Quais hipóteses são falsas e quais são verdadeiras?\n",
    "    * Quais as correlações entre as variáveis e a variável resposta?\n",
    "6. Escreve os Insights que você encontro.\n",
    "7. Escreve possíveis soluções para o problema do CEO."
   ]
  },
  {
   "cell_type": "code",
   "execution_count": null,
   "metadata": {},
   "outputs": [],
   "source": []
  }
 ],
 "metadata": {
  "kernelspec": {
   "display_name": "Python 3",
   "language": "python",
   "name": "python3"
  },
  "language_info": {
   "codemirror_mode": {
    "name": "ipython",
    "version": 3
   },
   "file_extension": ".py",
   "mimetype": "text/x-python",
   "name": "python",
   "nbconvert_exporter": "python",
   "pygments_lexer": "ipython3",
   "version": "3.7.7"
  }
 },
 "nbformat": 4,
 "nbformat_minor": 4
}
