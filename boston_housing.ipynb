{
 "cells": [
  {
   "cell_type": "markdown",
   "metadata": {},
   "source": [
    "# Usando *Machine Learning* para prever valores de casas em *Boston*\n",
    "\n",
    "<p align=\"center\">\n",
    "    <img width=850, src=\"https://github.com/DanOliveira-DS/Datasets_for_Practicing_Applied_Machine_Learning/blob/master/imgs/Boston_Back_Bay_RobbieShade_Flickr_sm.jpg?raw=true\">\n",
    "</p>\n",
    "\n",
    "Neste projeto, avaliaremos o desempenho e o poder preditivo de um modelo que foi treinado e testado em dados coletados em residências nos subúrbios de Boston, Massachusetts. \n",
    "\n",
    "O conjunto de dados para este projeto foi retirado da plataforma [*Kaggle*](https://www.kaggle.com/schirmerchad/bostonhoustingmlnd). O conjunto de dados para este projeto se origina do *UCI Machine Learning Repository*. Os dados habitacionais de Boston foram coletados em 1978 e cada uma das 506 entradas representam dados agregados sobre 14 características para residências de vários subúrbios em Boston, Massachusetts.\n",
    "\n",
    "Para avaliar a performance do nosso modelo vamos utilizar Raiz quadrada do erro-médio:\n",
    "\n",
    "$RMSE = \\sqrt{\\frac{1}{n}\\Sigma_{i=1}^{n}{\\Big(\\frac{d_i -f_i}{\\sigma_i}\\Big)^2}}$"
   ]
  },
  {
   "cell_type": "markdown",
   "metadata": {},
   "source": [
    "# Descrição das variáveis\n",
    "\n",
    "* CRIM: taxa de criminalidade per capita por cidade\n",
    "* ZN: proporção de terrenos residenciais zoneados para lotes com mais de 25.000 pés quadrados.\n",
    "* INDUS: proporção de acres de negócios não varejistas por cidade\n",
    "* CHAS: variável dummy de Charles River (= 1 se a área delimita o rio; 0 caso contrário)\n",
    "* NOX: concentração de óxidos nítricos (partes por 10 milhões)\n",
    "* RM: número médio de quartos por habitação\n",
    "* IDADE: proporção de unidades ocupadas pelo proprietário construídas antes de 1940\n",
    "* DIS: distâncias ponderadas para cinco centros de emprego de Boston\n",
    "* RAD: índice de acessibilidade às rodovias radiais\n",
    "* IMPOSTO: taxa de imposto de propriedade de valor total por `$10.000`.\n",
    "* PTRATIO: proporcaoo aluno-professor por cidade. \n",
    "* B: 1000 (Bk − 0,63) 2 onde Bk é a proporção de negros por cidade/\n",
    "* LSTAT: % status inferior da população\n",
    "* MEDV: valor médio das casas ocupadas pelo proprietário em US `$ 1.000`"
   ]
  },
  {
   "cell_type": "code",
   "execution_count": null,
   "metadata": {},
   "outputs": [],
   "source": []
  }
 ],
 "metadata": {
  "kernelspec": {
   "display_name": "Python 3",
   "language": "python",
   "name": "python3"
  },
  "language_info": {
   "codemirror_mode": {
    "name": "ipython",
    "version": 3
   },
   "file_extension": ".py",
   "mimetype": "text/x-python",
   "name": "python",
   "nbconvert_exporter": "python",
   "pygments_lexer": "ipython3",
   "version": "3.7.7"
  }
 },
 "nbformat": 4,
 "nbformat_minor": 4
}
